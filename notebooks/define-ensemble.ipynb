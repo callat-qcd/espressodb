{
 "cells": [
  {
   "cell_type": "code",
   "execution_count": null,
   "metadata": {},
   "outputs": [],
   "source": [
    "from lattedb.gaugeconfig.models import Nf211\n",
    "from lattedb.ensemble.models import Ensemble"
   ]
  },
  {
   "cell_type": "code",
   "execution_count": null,
   "metadata": {},
   "outputs": [],
   "source": [
    "LOGGER = logging.getLogger(\"base\")\n",
    "LOGGER.setLevel(logging.INFO)"
   ]
  },
  {
   "cell_type": "code",
   "execution_count": null,
   "metadata": {},
   "outputs": [],
   "source": [
    "%load_ext blackcellmagic"
   ]
  },
  {
   "cell_type": "code",
   "execution_count": null,
   "metadata": {},
   "outputs": [],
   "source": [
    "gauge_configs = Nf211.objects.all()"
   ]
  },
  {
   "cell_type": "raw",
   "metadata": {},
   "source": [
    "keys = (\"nx\", \"nt\", \"gaugeaction\", \"light\", \"strange\", \"charm\")\n",
    "for distinct in Nf211.objects.values_list(*keys).distinct():\n",
    "    query = {key: val for key, val in zip(keys, distinct)}\n",
    "    nfs = Nf211.objects.filter(**query)\n",
    "    config = nfs.first()\n",
    "    label = f\"Baryon2pt->{config.long_tag}\"\n",
    "    ensemble, created = Ensemble.objects.get_or_create(label=label)   \n",
    "    ensemble.configurations.add(*nfs)\n",
    "    ensemble.save()"
   ]
  },
  {
   "cell_type": "code",
   "execution_count": null,
   "metadata": {},
   "outputs": [],
   "source": []
  }
 ],
 "metadata": {
  "kernelspec": {
   "display_name": "Python 3",
   "language": "python",
   "name": "python3"
  },
  "language_info": {
   "codemirror_mode": {
    "name": "ipython",
    "version": 3
   },
   "file_extension": ".py",
   "mimetype": "text/x-python",
   "name": "python",
   "nbconvert_exporter": "python",
   "pygments_lexer": "ipython3",
   "version": "3.7.3"
  }
 },
 "nbformat": 4,
 "nbformat_minor": 2
}
