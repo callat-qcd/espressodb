{
 "cells": [
  {
   "cell_type": "markdown",
   "metadata": {},
   "source": [
    "# Example usage of lattedb"
   ]
  },
  {
   "cell_type": "code",
   "execution_count": null,
   "metadata": {},
   "outputs": [],
   "source": [
    "from lattedb.correlator.models import Baryon2pt"
   ]
  },
  {
   "cell_type": "code",
   "execution_count": null,
   "metadata": {},
   "outputs": [],
   "source": [
    "# large needs to be filled dynamically\n",
    "\n",
    "large_int = 1\n",
    "large_float = 1.1\n",
    "large = 1\n",
    "\n",
    "global_pars = {\n",
    "    # Additional Gauge Config Smearing\n",
    "    \"flowstep\": large,\n",
    "    \"flowtime\": large,\n",
    "    # Gauge Config\n",
    "    \"config\": large_int,\n",
    "    \"l_fm\": large_float,\n",
    "    \"nt\": large_int,\n",
    "    \"nx\": large_int,\n",
    "    \"ny\": large_int,\n",
    "    \"nz\": large_int,\n",
    "    \"mpi\": 310,\n",
    "    \"stream\": \"large\",\n",
    "    # Gauge action\n",
    "    \"beta\": large_float,\n",
    "    \"a_fm\": large_float,\n",
    "    \"u0\": large,\n",
    "    # OneToAll\n",
    "    \"origin_x\": large_int,\n",
    "    \"origin_y\": large_int,\n",
    "    \"origin_z\": large_int,\n",
    "    \"origin_t\": large_int,\n",
    "    # MobiusDW\n",
    "    \"a5\": large_float,\n",
    "    \"alpha5\": large_float,\n",
    "    \"b5\": large_float,\n",
    "    \"c5\": large_float,\n",
    "    \"l5\": large_int,\n",
    "    \"m5\": large_float,\n",
    "    # Hisq\n",
    "    \"naik\": large,\n",
    "    # Hadron Gaussian Smear\n",
    "    \"radius\": large_int,\n",
    "    \"step\": large_float,\n",
    "    # Interpolator: Hadron\n",
    "    \"strangeness\": 0,\n",
    "    \"description\": \"nucleon interpolation operator [hep-lat/0508018]\",\n",
    "    \"irrep\": \"g1\",\n",
    "    \"embedding\": 1,\n",
    "    \"parity\": large_int,\n",
    "    \"spin_x2\": 1,\n",
    "    \"spin_z_x2\": large_int,\n",
    "    \"isospin_x2\": 1,\n",
    "    \"isospin_z_x2\": large_int,\n",
    "    \"momentum\": 0,\n",
    "}\n"
   ]
  },
  {
   "cell_type": "code",
   "execution_count": null,
   "metadata": {},
   "outputs": [],
   "source": [
    "special_pars = {\n",
    "    ## Specializations ##\n",
    "    # Valence\n",
    "    # hack to resolve same instanziation fix\n",
    "    \"propagator0.fermionaction.quark_mass\": large_float,\n",
    "    \"propagator1.fermionaction.quark_mass\": large_float,\n",
    "    \"propagator2.fermionaction.quark_mass\": large_float,\n",
    "    \"propagator0.fermionaction.quark_tag\": \"light\",\n",
    "    \"propagator1.fermionaction.quark_tag\": \"light\",\n",
    "    \"propagator2.fermionaction.quark_tag\": \"light\",\n",
    "    # Sea\n",
    "    \"propagator0.gaugeconfig.light.quark_mass\": large_float,\n",
    "    \"propagator1.gaugeconfig.light.quark_mass\": large_float,\n",
    "    \"propagator2.gaugeconfig.light.quark_mass\": large_float,\n",
    "    \"propagator0.gaugeconfig.strange.quark_mass\": large_float,\n",
    "    \"propagator1.gaugeconfig.strange.quark_mass\": large_float,\n",
    "    \"propagator2.gaugeconfig.strange.quark_mass\": large_float,\n",
    "    \"propagator0.gaugeconfig.charm.quark_mass\": large_float,\n",
    "    \"propagator1.gaugeconfig.charm.quark_mass\": large_float,\n",
    "    \"propagator2.gaugeconfig.charm.quark_mass\": large_float,\n",
    "    \"propagator0.gaugeconfig.light.quark_tag\": \"light\",\n",
    "    \"propagator1.gaugeconfig.light.quark_tag\": \"light\",\n",
    "    \"propagator2.gaugeconfig.light.quark_tag\": \"light\",\n",
    "    \"propagator0.gaugeconfig.strange.quark_tag\": \"strange\",\n",
    "    \"propagator1.gaugeconfig.strange.quark_tag\": \"strange\",\n",
    "    \"propagator2.gaugeconfig.strange.quark_tag\": \"strange\",\n",
    "    \"propagator0.gaugeconfig.charm.quark_tag\": \"charm\",\n",
    "    \"propagator1.gaugeconfig.charm.quark_tag\": \"charm\",\n",
    "    \"propagator2.gaugeconfig.charm.quark_tag\": \"charm\",\n",
    "}\n"
   ]
  },
  {
   "cell_type": "code",
   "execution_count": null,
   "metadata": {},
   "outputs": [],
   "source": [
    "tree = {\n",
    "    \"propagator0\": \"OneToAll\",\n",
    "    \"propagator0.fermionaction\": \"MobiusDW\",\n",
    "    \"propagator0.gaugeconfig\": \"Nf211\",\n",
    "    \"propagator0.gaugeconfig.light\": \"Hisq\",\n",
    "    \"propagator0.gaugeconfig.strange\": \"Hisq\",\n",
    "    \"propagator0.gaugeconfig.charm\": \"Hisq\",\n",
    "    \"propagator0.gaugeconfig.gaugeaction\": \"LuescherWeisz\",\n",
    "    \"propagator0.gaugeconfig.gaugesmear\": \"WilsonFlow\",\n",
    "    \"propagator1\": \"OneToAll\",\n",
    "    \"propagator1.fermionaction\": \"MobiusDW\",\n",
    "    \"propagator1.gaugeconfig\": \"Nf211\",\n",
    "    \"propagator1.gaugeconfig.light\": \"Hisq\",\n",
    "    \"propagator1.gaugeconfig.strange\": \"Hisq\",\n",
    "    \"propagator1.gaugeconfig.charm\": \"Hisq\",\n",
    "    \"propagator1.gaugeconfig.gaugeaction\": \"LuescherWeisz\",\n",
    "    \"propagator1.gaugeconfig.gaugesmear\": \"WilsonFlow\",\n",
    "    \"propagator2\": \"OneToAll\",\n",
    "    \"propagator2.fermionaction\": \"MobiusDW\",\n",
    "    \"propagator2.gaugeconfig\": \"Nf211\",\n",
    "    \"propagator2.gaugeconfig.light\": \"Hisq\",\n",
    "    \"propagator2.gaugeconfig.strange\": \"Hisq\",\n",
    "    \"propagator2.gaugeconfig.charm\": \"Hisq\",\n",
    "    \"propagator2.gaugeconfig.gaugeaction\": \"LuescherWeisz\",\n",
    "    \"propagator2.gaugeconfig.gaugesmear\": \"WilsonFlow\",\n",
    "    \"sink\": \"Hadron\",\n",
    "    \"sink.interpolatorsmear\": \"Gaussian\",\n",
    "    \"source\": \"Hadron4D\",\n",
    "    \"source.interpolatorsmear\": \"Gaussian\",\n",
    "}"
   ]
  },
  {
   "cell_type": "code",
   "execution_count": null,
   "metadata": {},
   "outputs": [],
   "source": [
    "parameters = {**global_pars, **special_pars}"
   ]
  },
  {
   "cell_type": "code",
   "execution_count": null,
   "metadata": {
    "scrolled": false
   },
   "outputs": [],
   "source": [
    "Baryon2pt.get_or_create_from_parameters(parameters=parameters, tree=tree)"
   ]
  },
  {
   "cell_type": "code",
   "execution_count": null,
   "metadata": {},
   "outputs": [],
   "source": []
  }
 ],
 "metadata": {
  "kernelspec": {
   "display_name": "Python 3",
   "language": "python",
   "name": "python3"
  },
  "language_info": {
   "codemirror_mode": {
    "name": "ipython",
    "version": 3
   },
   "file_extension": ".py",
   "mimetype": "text/x-python",
   "name": "python",
   "nbconvert_exporter": "python",
   "pygments_lexer": "ipython3",
   "version": "3.7.3"
  }
 },
 "nbformat": 4,
 "nbformat_minor": 2
}
