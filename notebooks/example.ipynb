{
 "cells": [
  {
   "cell_type": "markdown",
   "metadata": {},
   "source": [
    "# Example usage of lattedb"
   ]
  },
  {
   "cell_type": "code",
   "execution_count": 1,
   "metadata": {},
   "outputs": [],
   "source": [
    "import lattedb"
   ]
  },
  {
   "cell_type": "markdown",
   "metadata": {},
   "source": [
    "Read entries from database"
   ]
  },
  {
   "cell_type": "code",
   "execution_count": 2,
   "metadata": {},
   "outputs": [
    {
     "name": "stdout",
     "output_type": "stream",
     "text": [
      "HisqGaugeConfig(id=1), L [fm] = -0.002\n"
     ]
    }
   ],
   "source": [
    "config = lattedb.HisqGaugeConfig.objects.first()\n",
    "\n",
    "print(f\"{config}, L [fm] = {config.l_fm}\")"
   ]
  },
  {
   "cell_type": "markdown",
   "metadata": {},
   "source": [
    "Change the entry"
   ]
  },
  {
   "cell_type": "code",
   "execution_count": 3,
   "metadata": {},
   "outputs": [],
   "source": [
    "config.l_fm += 10"
   ]
  },
  {
   "cell_type": "markdown",
   "metadata": {},
   "source": [
    "Write to database"
   ]
  },
  {
   "cell_type": "code",
   "execution_count": 4,
   "metadata": {},
   "outputs": [],
   "source": [
    "config.save()"
   ]
  },
  {
   "cell_type": "markdown",
   "metadata": {},
   "source": [
    "Show that it has worked"
   ]
  },
  {
   "cell_type": "code",
   "execution_count": 5,
   "metadata": {},
   "outputs": [
    {
     "name": "stdout",
     "output_type": "stream",
     "text": [
      "HisqGaugeConfig(id=1), L [fm] = 9.998\n"
     ]
    }
   ],
   "source": [
    "config_2 = lattedb.HisqGaugeConfig.objects.first()\n",
    "\n",
    "print(f\"{config_2}, L [fm] = {config_2.l_fm}\")"
   ]
  },
  {
   "cell_type": "markdown",
   "metadata": {},
   "source": [
    "Extract data frame from queryset"
   ]
  },
  {
   "cell_type": "code",
   "execution_count": 6,
   "metadata": {},
   "outputs": [
    {
     "data": {
      "text/html": [
       "<div>\n",
       "<style scoped>\n",
       "    .dataframe tbody tr th:only-of-type {\n",
       "        vertical-align: middle;\n",
       "    }\n",
       "\n",
       "    .dataframe tbody tr th {\n",
       "        vertical-align: top;\n",
       "    }\n",
       "\n",
       "    .dataframe thead th {\n",
       "        text-align: right;\n",
       "    }\n",
       "</style>\n",
       "<table border=\"1\" class=\"dataframe\">\n",
       "  <thead>\n",
       "    <tr style=\"text-align: right;\">\n",
       "      <th></th>\n",
       "      <th>id</th>\n",
       "      <th>type</th>\n",
       "      <th>last_modified</th>\n",
       "      <th>user</th>\n",
       "      <th>directory</th>\n",
       "      <th>misc</th>\n",
       "      <th>gaugeconfig_ptr</th>\n",
       "      <th>long_tag</th>\n",
       "      <th>short_tag</th>\n",
       "      <th>stream</th>\n",
       "      <th>...</th>\n",
       "      <th>nt</th>\n",
       "      <th>ml</th>\n",
       "      <th>ms</th>\n",
       "      <th>mc</th>\n",
       "      <th>beta</th>\n",
       "      <th>a_fm</th>\n",
       "      <th>l_fm</th>\n",
       "      <th>mpil</th>\n",
       "      <th>mpi</th>\n",
       "      <th>alpha_s</th>\n",
       "    </tr>\n",
       "  </thead>\n",
       "  <tbody>\n",
       "    <tr>\n",
       "      <th>0</th>\n",
       "      <td>1</td>\n",
       "      <td>HisqGaugeConfig</td>\n",
       "      <td>2019-06-27 17:20:55.093535+00:00</td>\n",
       "      <td>ckoerber</td>\n",
       "      <td>1</td>\n",
       "      <td>None</td>\n",
       "      <td>1</td>\n",
       "      <td>afar</td>\n",
       "      <td>adds</td>\n",
       "      <td>asd</td>\n",
       "      <td>...</td>\n",
       "      <td>2</td>\n",
       "      <td>0.000002</td>\n",
       "      <td>0.00002</td>\n",
       "      <td>0.0002</td>\n",
       "      <td>0.001</td>\n",
       "      <td>-0.001</td>\n",
       "      <td>9.998</td>\n",
       "      <td>0.001</td>\n",
       "      <td>-0.01</td>\n",
       "      <td>1.0</td>\n",
       "    </tr>\n",
       "  </tbody>\n",
       "</table>\n",
       "<p>1 rows × 21 columns</p>\n",
       "</div>"
      ],
      "text/plain": [
       "   id             type                    last_modified      user directory  \\\n",
       "0   1  HisqGaugeConfig 2019-06-27 17:20:55.093535+00:00  ckoerber         1   \n",
       "\n",
       "   misc  gaugeconfig_ptr long_tag short_tag stream  ...  nt        ml  \\\n",
       "0  None                1     afar      adds    asd  ...   2  0.000002   \n",
       "\n",
       "        ms      mc   beta    a_fm   l_fm   mpil    mpi alpha_s  \n",
       "0  0.00002  0.0002  0.001  -0.001  9.998  0.001  -0.01     1.0  \n",
       "\n",
       "[1 rows x 21 columns]"
      ]
     },
     "execution_count": 6,
     "metadata": {},
     "output_type": "execute_result"
    }
   ],
   "source": [
    "df = lattedb.HisqGaugeConfig.objects.all().to_dataframe()\n",
    "df.head()"
   ]
  }
 ],
 "metadata": {
  "kernelspec": {
   "display_name": "Python 3",
   "language": "python",
   "name": "python3"
  },
  "language_info": {
   "codemirror_mode": {
    "name": "ipython",
    "version": 3
   },
   "file_extension": ".py",
   "mimetype": "text/x-python",
   "name": "python",
   "nbconvert_exporter": "python",
   "pygments_lexer": "ipython3",
   "version": "3.7.3"
  }
 },
 "nbformat": 4,
 "nbformat_minor": 2
}
